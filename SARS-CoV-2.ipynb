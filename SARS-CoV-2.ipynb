{
 "cells": [
  {
   "cell_type": "code",
   "execution_count": 1,
   "metadata": {},
   "outputs": [],
   "source": [
    "from ajk_utils.parse_fasta import parse_fasta\n",
    "from ajk_utils.orf_finder import get_orfs"
   ]
  },
  {
   "cell_type": "code",
   "execution_count": 2,
   "metadata": {},
   "outputs": [],
   "source": [
    "# def parse_fasta(fasta_file):\n",
    "#     sequence = ''\n",
    "#     with open(fasta_file) as f:\n",
    "#         for line in f:\n",
    "#             if not line.startswith(\">\"):\n",
    "#                 sequence += line.strip()\n",
    "                \n",
    "#     return sequence"
   ]
  },
  {
   "cell_type": "code",
   "execution_count": 3,
   "metadata": {},
   "outputs": [],
   "source": [
    "# def get_genes(seq):\n",
    "#     first_start = sequence.index(\"ATG\") # stores position of first START codon\n",
    "#     stop_codons = ['TAG', 'TAA', 'TGA']\n",
    "#     start_positions = []\n",
    "#     for i in range(first_start, len(seq), 3):\n",
    "#         codon = seq[i:i+3]\n",
    "#         if codon == 'ATG':\n",
    "#             start_positions.append(i)\n",
    "#             #print(\"START\", codon, \"index =\", i)\n",
    "#         #if codon in stop_codons:\n",
    "#         #    print(\"STOP\", codon, \"index =\", i)\n",
    "                \n",
    "#     return start_positions"
   ]
  },
  {
   "cell_type": "code",
   "execution_count": 4,
   "metadata": {
    "scrolled": true
   },
   "outputs": [],
   "source": [
    "# sequence = parse_fasta(\"sars_cov2.fasta\")\n",
    "# get_genes(sequence)"
   ]
  },
  {
   "cell_type": "code",
   "execution_count": 5,
   "metadata": {},
   "outputs": [],
   "source": [
    "sequence = parse_fasta('sars_cov2.fasta')"
   ]
  },
  {
   "cell_type": "code",
   "execution_count": 6,
   "metadata": {},
   "outputs": [],
   "source": [
    "#Return ORFS with length >= 150, do not show nested\n",
    "# orfs = get_orfs(sequence, 150, False)\n",
    "# print(*orfs, sep='\\n')"
   ]
  },
  {
   "cell_type": "code",
   "execution_count": 7,
   "metadata": {},
   "outputs": [
    {
     "name": "stdout",
     "output_type": "stream",
     "text": [
      "(266, 13483, 2)\n",
      "(726, 881, 3)\n",
      "(2958, 3206, 3)\n",
      "(3948, 4103, 3)\n",
      "(5919, 6089, 3)\n",
      "(6156, 6350, 3)\n",
      "(7548, 7709, 3)\n",
      "(10215, 10400, 3)\n",
      "(13311, 13466, 3)\n",
      "(13768, 21555, 1)\n",
      "(15461, 15667, 2)\n",
      "(19148, 19303, 2)\n",
      "(21536, 25384, 2)\n",
      "(21936, 22199, 3)\n",
      "(25393, 26220, 1)\n",
      "(25524, 25697, 3)\n",
      "(26245, 26472, 1)\n",
      "(26523, 27191, 3)\n",
      "(26693, 26872, 2)\n",
      "(27202, 27387, 1)\n",
      "(27394, 27759, 1)\n",
      "(27894, 28259, 3)\n",
      "(28274, 29533, 2)\n",
      "(28284, 28577, 3)\n",
      "(28734, 28955, 3)\n"
     ]
    }
   ],
   "source": [
    "#Return ORFS with length >= 150, include nested\n",
    "orfs_nested = get_orfs(sequence, 150, True)\n",
    "print(*orfs_nested, sep='\\n')"
   ]
  },
  {
   "cell_type": "code",
   "execution_count": 8,
   "metadata": {},
   "outputs": [],
   "source": [
    "#Creating reverse complementary strand\n",
    "comp_base = {'A': 'T', 'T': 'A', 'G': 'C', 'C':'G'}\n",
    "\n",
    "seq_list = list(sequence)\n",
    "seq_list.reverse()\n",
    "reverse = ''.join(seq_list)\n",
    "\n",
    "r_comp = ''.join([comp_base[i] for i in reverse])\n",
    "# print(sequence[421:594])"
   ]
  },
  {
   "cell_type": "code",
   "execution_count": 9,
   "metadata": {},
   "outputs": [],
   "source": [
    "# Return complementary ORFS with length >= 150, do not show nested\n",
    "# orfs = get_orfs(r_comp, 150, False)\n",
    "# comp_orfs = [((len(r_comp) - i[0]) + 1, (len(r_comp) - i[1]) + 1, i[2]) \n",
    "#             for i in orfs]\n",
    "# comp_orfs.sort(key=lambda gene: (gene[0], gene[1], gene[2]))\n",
    "# print(*comp_orfs, sep='\\n')"
   ]
  },
  {
   "cell_type": "code",
   "execution_count": 10,
   "metadata": {},
   "outputs": [
    {
     "name": "stdout",
     "output_type": "stream",
     "text": [
      "(422, 667, '-')\n",
      "(516, 692, '-')\n",
      "(1391, 1570, '-')\n",
      "(1528, 1689, '-')\n",
      "(2290, 2457, '-')\n",
      "(6187, 6489, '-')\n",
      "(8797, 8949, '-')\n",
      "(12283, 12486, '-')\n",
      "(13115, 13273, '-')\n",
      "(13359, 13550, '-')\n",
      "(14992, 15156, '-')\n",
      "(17979, 18185, '-')\n",
      "(18151, 18324, '-')\n",
      "(20844, 21038, '-')\n",
      "(23074, 23322, '-')\n",
      "(23198, 23437, '-')\n",
      "(23926, 24111, '-')\n",
      "(25586, 25807, '-')\n",
      "(26181, 26342, '-')\n",
      "(26804, 27004, '-')\n",
      "(27034, 27210, '-')\n",
      "(29685, 29840, '-')\n"
     ]
    }
   ],
   "source": [
    "#Return complementary ORFS with length >= 150, include nested\n",
    "orfs = get_orfs(r_comp, 150, True)\n",
    "comp_orfs_nested = [((len(r_comp) - i[1]) + 1, (len(r_comp) - i[0]) + 1, '-') \n",
    "            for i in orfs]\n",
    "comp_orfs_nested.sort(key=lambda gene: (gene[0], gene[1], gene[2]))\n",
    "print(*comp_orfs_nested, sep='\\n')"
   ]
  },
  {
   "cell_type": "code",
   "execution_count": 11,
   "metadata": {},
   "outputs": [
    {
     "name": "stdout",
     "output_type": "stream",
     "text": [
      "Gene 1: (266, 13483, '+')\n",
      "Gene 2: (422, 667, '-')\n",
      "Gene 3: (516, 692, '-')\n",
      "Gene 4: (726, 881, '+')\n",
      "Gene 5: (1391, 1570, '-')\n",
      "Gene 6: (1528, 1689, '-')\n",
      "Gene 7: (2290, 2457, '-')\n",
      "Gene 8: (2958, 3206, '+')\n",
      "Gene 9: (3948, 4103, '+')\n",
      "Gene 10: (5919, 6089, '+')\n",
      "Gene 11: (6156, 6350, '+')\n",
      "Gene 12: (6187, 6489, '-')\n",
      "Gene 13: (7548, 7709, '+')\n",
      "Gene 14: (8797, 8949, '-')\n",
      "Gene 15: (10215, 10400, '+')\n",
      "Gene 16: (12283, 12486, '-')\n",
      "Gene 17: (13115, 13273, '-')\n",
      "Gene 18: (13311, 13466, '+')\n",
      "Gene 19: (13359, 13550, '-')\n",
      "Gene 20: (13768, 21555, '+')\n",
      "Gene 21: (14992, 15156, '-')\n",
      "Gene 22: (15461, 15667, '+')\n",
      "Gene 23: (17979, 18185, '-')\n",
      "Gene 24: (18151, 18324, '-')\n",
      "Gene 25: (19148, 19303, '+')\n",
      "Gene 26: (20844, 21038, '-')\n",
      "Gene 27: (21536, 25384, '+')\n",
      "Gene 28: (21936, 22199, '+')\n",
      "Gene 29: (23074, 23322, '-')\n",
      "Gene 30: (23198, 23437, '-')\n",
      "Gene 31: (23926, 24111, '-')\n",
      "Gene 32: (25393, 26220, '+')\n",
      "Gene 33: (25524, 25697, '+')\n",
      "Gene 34: (25586, 25807, '-')\n",
      "Gene 35: (26181, 26342, '-')\n",
      "Gene 36: (26245, 26472, '+')\n",
      "Gene 37: (26523, 27191, '+')\n",
      "Gene 38: (26693, 26872, '+')\n",
      "Gene 39: (26804, 27004, '-')\n",
      "Gene 40: (27034, 27210, '-')\n",
      "Gene 41: (27202, 27387, '+')\n",
      "Gene 42: (27394, 27759, '+')\n",
      "Gene 43: (27894, 28259, '+')\n",
      "Gene 44: (28274, 29533, '+')\n",
      "Gene 45: (28284, 28577, '+')\n",
      "Gene 46: (28734, 28955, '+')\n",
      "Gene 47: (29685, 29840, '-')\n"
     ]
    }
   ],
   "source": [
    "#Print all genes\n",
    "gene_list = [(i[0], i[1], '+') for i in orfs_nested]\n",
    "gene_list.extend(comp_orfs_nested)\n",
    "gene_list.sort(key=lambda gene: (gene[0], gene[1], gene[2]))\n",
    "\n",
    "print('\\n'.join([f'Gene {i + 1}: {gene_list[i]}' \n",
    "               for i in range(len(gene_list))]))"
   ]
  },
  {
   "cell_type": "code",
   "execution_count": null,
   "metadata": {},
   "outputs": [],
   "source": []
  }
 ],
 "metadata": {
  "kernelspec": {
   "display_name": "Python 3",
   "language": "python",
   "name": "python3"
  },
  "language_info": {
   "codemirror_mode": {
    "name": "ipython",
    "version": 3
   },
   "file_extension": ".py",
   "mimetype": "text/x-python",
   "name": "python",
   "nbconvert_exporter": "python",
   "pygments_lexer": "ipython3",
   "version": "3.7.3"
  }
 },
 "nbformat": 4,
 "nbformat_minor": 4
}
